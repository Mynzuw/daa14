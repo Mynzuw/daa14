{
  "nbformat": 4,
  "nbformat_minor": 0,
  "metadata": {
    "colab": {
      "provenance": []
    },
    "kernelspec": {
      "name": "python3",
      "display_name": "Python 3"
    },
    "language_info": {
      "name": "python"
    }
  },
  "cells": [
    {
      "cell_type": "code",
      "execution_count": 1,
      "metadata": {
        "id": "BSntK_XgMUJO"
      },
      "outputs": [],
      "source": [
        "import networkx as nx\n",
        "import matplotlib.pyplot as plt"
      ]
    },
    {
      "cell_type": "code",
      "source": [
        "vertices = range(1,10)\n",
        "edges = [(7,2), (2,3), (7,4), (4,5), (7,3), (7,5), (1,6), (1,7), (2,8), (2,9)]"
      ],
      "metadata": {
        "id": "EJd81RO7M_Id"
      },
      "execution_count": 2,
      "outputs": []
    },
    {
      "cell_type": "code",
      "source": [
        "G = nx.Graph()"
      ],
      "metadata": {
        "id": "ohczlIjjNVwV"
      },
      "execution_count": 3,
      "outputs": []
    },
    {
      "cell_type": "code",
      "source": [
        "G.add_nodes_from(vertices)\n",
        "G.add_edges_from(edges)\n",
        "pos=nx.spring_layout(G)"
      ],
      "metadata": {
        "id": "4GEEOY09NZBd"
      },
      "execution_count": 4,
      "outputs": []
    },
    {
      "cell_type": "code",
      "source": [
        "nx.draw_networkx_nodes( G,pos,\n",
        "                        nodelist=[1,4,3,8,9],\n",
        "                        \n",
        "                        node_color='g',\n",
        "                        node_size=1300)"
      ],
      "metadata": {
        "colab": {
          "base_uri": "https://localhost:8080/",
          "height": 265
        },
        "id": "E1IJ7eO1NjaM",
        "outputId": "1145f85f-d1d6-4a57-eb50-10706991e917"
      },
      "execution_count": 16,
      "outputs": [
        {
          "output_type": "execute_result",
          "data": {
            "text/plain": [
              "<matplotlib.collections.PathCollection at 0x7f86dcf6eb50>"
            ]
          },
          "metadata": {},
          "execution_count": 16
        },
        {
          "output_type": "display_data",
          "data": {
            "text/plain": [
              "<Figure size 432x288 with 1 Axes>"
            ],
            "image/png": "[encoded data removed]"
          },
          "metadata": {}
        }
      ]
    },
    {
      "cell_type": "code",
      "source": [
        "nx.draw_networkx_nodes( G,pos,\n",
        "                        nodelist=[2,5,6,7],\n",
        "                        \n",
        "                        node_color='r',\n",
        "                        node_size=1300)"
      ],
      "metadata": {
        "colab": {
          "base_uri": "https://localhost:8080/",
          "height": 265
        },
        "id": "y6Sfl5OPPgcs",
        "outputId": "b8746998-1c2e-41a1-c025-a5d162d20a41"
      },
      "execution_count": 17,
      "outputs": [
        {
          "output_type": "execute_result",
          "data": {
            "text/plain": [
              "<matplotlib.collections.PathCollection at 0x7f86dca3d910>"
            ]
          },
          "metadata": {},
          "execution_count": 17
        },
        {
          "output_type": "display_data",
          "data": {
            "text/plain": [
              "<Figure size 432x288 with 1 Axes>"
            ],
            "image/png": "[encoded data removed]"
          },
          "metadata": {}
        }
      ]
    },
    {
      "cell_type": "code",
      "source": [
        "nx.draw_networkx_edges (G,pos,edges,width=3,alpha=0.5,edge_color='b')\n",
        "labels={}\n",
        "labels[1] = r'1 NF'\n",
        "labels[2] = r'2 F'\n",
        "labels[3] = r'3 NF'\n",
        "labels[4] = r'4 NF'\n",
        "labels[5] = r'5 F'\n",
        "labels[6] = r'6 F'\n",
        "labels[7] = r'7 F'\n",
        "labels[8] = r'8 NF'\n",
        "labels[9] = r'9 NF'\n",
        "\n",
        "nx.draw_networkx_labels(G, pos, labels, font_size=16)"
      ],
      "metadata": {
        "colab": {
          "base_uri": "https://localhost:8080/",
          "height": 404
        },
        "id": "H6LWML_WPrG7",
        "outputId": "51e47188-97c4-49b8-d0a1-d8be5bbac015"
      },
      "execution_count": 24,
      "outputs": [
        {
          "output_type": "execute_result",
          "data": {
            "text/plain": [
              "{1: Text(0.5673504567391385, 0.4035878845975082, '1 NF'),\n",
              " 2: Text(-0.2582064306651663, -0.4318174740484887, '2 F'),\n",
              " 3: Text(0.04839224507419329, -0.2475032087774029, '3 NF'),\n",
              " 4: Text(-0.33794766661250825, 0.47435342911020384, '4 NF'),\n",
              " 5: Text(-0.09358673758825616, 0.6161741312073511, '5 F'),\n",
              " 6: Text(1.0, 0.6089894578725814, '6 F'),\n",
              " 7: Text(0.01083840806792498, 0.15731180508207, '7 F'),\n",
              " 8: Text(-0.2399568104798349, -0.9276088406363041, '8 NF'),\n",
              " 9: Text(-0.6968834645354907, -0.6534871844075177, '9 NF')}"
            ]
          },
          "metadata": {},
          "execution_count": 24
        },
        {
          "output_type": "display_data",
          "data": {
            "text/plain": [
              "<Figure size 432x288 with 1 Axes>"
            ],
            "image/png": "[encoded data removed]"
          },
          "metadata": {}
        }
      ]
    }
  ]
}